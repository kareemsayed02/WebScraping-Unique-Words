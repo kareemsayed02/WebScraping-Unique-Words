{
  "nbformat": 4,
  "nbformat_minor": 0,
  "metadata": {
    "colab": {
      "provenance": []
    },
    "kernelspec": {
      "name": "python3",
      "display_name": "Python 3"
    },
    "language_info": {
      "name": "python"
    }
  },
  "cells": [
    {
      "cell_type": "code",
      "execution_count": null,
      "metadata": {
        "id": "VfNc0Pb8mrPr"
      },
      "outputs": [],
      "source": [
        "import requests\n",
        "from bs4 import BeautifulSoup\n",
        "import re\n",
        "from nltk.tokenize import word_tokenize\n",
        "from nltk.corpus import stopwords\n",
        "from nltk.stem import WordNetLemmatizer\n",
        "import nltk\n"
      ]
    },
    {
      "cell_type": "code",
      "source": [
        "nltk.download('punkt')\n",
        "nltk.download('wordnet')\n",
        "nltk.download('stopwords')"
      ],
      "metadata": {
        "colab": {
          "base_uri": "https://localhost:8080/"
        },
        "id": "E0jVxPhxoXWC",
        "outputId": "29738dac-b36f-49bd-948a-27e86cf711ff"
      },
      "execution_count": null,
      "outputs": [
        {
          "output_type": "stream",
          "name": "stderr",
          "text": [
            "[nltk_data] Downloading package punkt to /root/nltk_data...\n",
            "[nltk_data]   Package punkt is already up-to-date!\n",
            "[nltk_data] Downloading package wordnet to /root/nltk_data...\n",
            "[nltk_data]   Package wordnet is already up-to-date!\n",
            "[nltk_data] Downloading package stopwords to /root/nltk_data...\n",
            "[nltk_data]   Package stopwords is already up-to-date!\n"
          ]
        },
        {
          "output_type": "execute_result",
          "data": {
            "text/plain": [
              "True"
            ]
          },
          "metadata": {},
          "execution_count": 89
        }
      ]
    },
    {
      "cell_type": "code",
      "source": [
        "pip install requests beautifulsoup4 nltk"
      ],
      "metadata": {
        "colab": {
          "base_uri": "https://localhost:8080/"
        },
        "id": "E5upKq_lm3aj",
        "outputId": "aeb33383-ea60-4d2b-cdd1-d13e7292647f"
      },
      "execution_count": null,
      "outputs": [
        {
          "output_type": "stream",
          "name": "stdout",
          "text": [
            "Requirement already satisfied: requests in /usr/local/lib/python3.10/dist-packages (2.31.0)\n",
            "Requirement already satisfied: beautifulsoup4 in /usr/local/lib/python3.10/dist-packages (4.12.3)\n",
            "Requirement already satisfied: nltk in /usr/local/lib/python3.10/dist-packages (3.8.1)\n",
            "Requirement already satisfied: charset-normalizer<4,>=2 in /usr/local/lib/python3.10/dist-packages (from requests) (3.3.2)\n",
            "Requirement already satisfied: idna<4,>=2.5 in /usr/local/lib/python3.10/dist-packages (from requests) (3.6)\n",
            "Requirement already satisfied: urllib3<3,>=1.21.1 in /usr/local/lib/python3.10/dist-packages (from requests) (2.0.7)\n",
            "Requirement already satisfied: certifi>=2017.4.17 in /usr/local/lib/python3.10/dist-packages (from requests) (2024.2.2)\n",
            "Requirement already satisfied: soupsieve>1.2 in /usr/local/lib/python3.10/dist-packages (from beautifulsoup4) (2.5)\n",
            "Requirement already satisfied: click in /usr/local/lib/python3.10/dist-packages (from nltk) (8.1.7)\n",
            "Requirement already satisfied: joblib in /usr/local/lib/python3.10/dist-packages (from nltk) (1.3.2)\n",
            "Requirement already satisfied: regex>=2021.8.3 in /usr/local/lib/python3.10/dist-packages (from nltk) (2023.12.25)\n",
            "Requirement already satisfied: tqdm in /usr/local/lib/python3.10/dist-packages (from nltk) (4.66.2)\n"
          ]
        }
      ]
    },
    {
      "cell_type": "code",
      "source": [
        "url = 'https://www.mayoclinic.org/diseases-conditions/social-anxiety-disorder/symptoms-causes/syc-20353561'\n",
        "response = requests.get(url)\n",
        "html_content = response.text"
      ],
      "metadata": {
        "id": "oKEbauHinCfK"
      },
      "execution_count": null,
      "outputs": []
    },
    {
      "cell_type": "code",
      "source": [
        "soup = BeautifulSoup(html_content, 'html.parser')\n",
        "text_elements = soup.find_all(['p', 'h1', 'h2', 'h3'])\n",
        "text = \"\"\n",
        "for element in text_elements:\n",
        "    text += element.get_text() + \" \""
      ],
      "metadata": {
        "id": "tVeOEXKEnF7S"
      },
      "execution_count": null,
      "outputs": []
    },
    {
      "cell_type": "code",
      "source": [
        "print(text)"
      ],
      "metadata": {
        "colab": {
          "base_uri": "https://localhost:8080/"
        },
        "id": "cZvhcJOnfhm9",
        "outputId": "649c726d-9dd7-4080-b5ea-16192814f94d"
      },
      "execution_count": null,
      "outputs": [
        {
          "output_type": "stream",
          "name": "stdout",
          "text": [
            "Research Education Research Education Social anxiety disorder (social phobia) Overview It's normal to feel nervous in some social situations. For example, going on a date or giving a presentation may cause that feeling of butterflies in your stomach. But in social anxiety disorder, also called social phobia, everyday interactions cause significant anxiety, self-consciousness and embarrassment because you fear being scrutinized or judged negatively by others. In social anxiety disorder, fear and anxiety lead to avoidance that can disrupt your life. Severe stress can affect your relationships, daily routines, work, school or other activities. Social anxiety disorder can be a chronic mental health condition, but learning coping skills in psychotherapy and taking medications can help you gain confidence and improve your ability to interact with others. Social anxiety disorder care at Mayo Clinic Products & Services Symptoms Feelings of shyness or discomfort in certain situations aren't necessarily signs of social anxiety disorder, particularly in children. Comfort levels in social situations vary, depending on personality traits and life experiences. Some people are naturally reserved and others are more outgoing. In contrast to everyday nervousness, social anxiety disorder includes fear, anxiety and avoidance that interfere with relationships, daily routines, work, school or other activities. Social anxiety disorder typically begins in the early to mid-teens, though it can sometimes start in younger children or in adults. Signs and symptoms of social anxiety disorder can include constant: For children, anxiety about interacting with adults or peers may be shown by crying, having temper tantrums, clinging to parents or refusing to speak in social situations. Performance type of social anxiety disorder is when you experience intense fear and anxiety during speaking or performing in public but not in other types of more general social situations. Physical signs and symptoms can sometimes accompany social anxiety disorder and may include: Common, everyday experiences may be hard to endure when you have social anxiety disorder, including: Social anxiety disorder symptoms can change over time. They may flare up if you're facing a lot of changes, stress or demands in your life. Although avoiding situations that produce anxiety may make you feel better in the short term, your anxiety is likely to continue over the long term if you don't get treatment. See your doctor or a mental health professional if you fear and avoid normal social situations because they cause embarrassment, worry or panic. There is a problem with\n",
            "                                information submitted for this request. Review/update the\n",
            "                                information highlighted below and resubmit the form. From Mayo Clinic to your inbox\n",
            "                         Sign up for free and stay up to date on research advancements, health tips, current health topics, and expertise on managing health. Click here for an email preview. ErrorEmail field is required ErrorInclude a valid email address To provide you with the most relevant and helpful information, and understand which\n",
            "                                information is beneficial, we may combine your email and website usage information with\n",
            "                                other information we have about you. If you are a Mayo Clinic patient, this could\n",
            "                                include protected health information. If we combine this information with your protected\n",
            "                                health information, we will treat all of that information as protected health\n",
            "                                information and will only use or disclose that information as set forth in our notice of\n",
            "                                privacy practices. You may opt-out of email communications at any time by clicking on\n",
            "                                the unsubscribe link in the e-mail. Thank you for subscribing! You'll soon start receiving the latest Mayo Clinic health information you requested in your inbox. Sorry something went wrong with your subscription Please, try again in a couple of minutes  Causes Like many other mental health conditions, social anxiety disorder likely arises from a complex interaction of biological and environmental factors. Possible causes include: Risk factors Several factors can increase the risk of developing social anxiety disorder, including: Complications Left untreated, social anxiety disorder can control your life. Anxieties can interfere with work, school, relationships or enjoyment of life. This disorder can cause: Other anxiety disorders and certain other mental health disorders, particularly major depressive disorder and substance abuse problems, often occur with social anxiety disorder. Prevention There's no way to predict what will cause someone to develop an anxiety disorder, but you can take steps to reduce the impact of symptoms if you're anxious:  \n",
            "\n",
            " \n",
            "Social anxiety disorder (social phobia) care at Mayo Clinic\n",
            " Related Associated Procedures Products & Services Social anxiety disorder (social phobia) Mayo Clinic does not endorse companies or products. Advertising revenue supports our not-for-profit mission. Mayo Clinic Press Check out these best-sellers and special offers on books and newsletters from Mayo Clinic Press. Your gift holds great power – donate today! Make your tax-deductible gift and be a part of the cutting-edge research and care that's changing medicine. About Mayo Clinic   Medical Professionals  Businesses   Medical Professionals  Businesses   Students    Students   Researchers   International Patients  Charitable Care & Financial Assistance  Follow Mayo Clinic Get the Mayo Clinic app © 1998-2024 Mayo Foundation for Medical Education and Research (MFMER). All rights reserved. \n"
          ]
        }
      ]
    },
    {
      "cell_type": "code",
      "source": [
        "cleaned_text = re.sub(r'[^a-zA-Z\\s]', ' ', text)"
      ],
      "metadata": {
        "id": "7bBP7UNRnQ8a"
      },
      "execution_count": null,
      "outputs": []
    },
    {
      "cell_type": "code",
      "source": [
        "normalized_text = cleaned_text.lower()"
      ],
      "metadata": {
        "id": "9VzbtqPUnRnS"
      },
      "execution_count": null,
      "outputs": []
    },
    {
      "cell_type": "code",
      "source": [
        "tokens = word_tokenize(normalized_text)"
      ],
      "metadata": {
        "id": "qZTEFR8RnUga"
      },
      "execution_count": null,
      "outputs": []
    },
    {
      "cell_type": "code",
      "source": [
        "lemmatizer = WordNetLemmatizer()\n",
        "lemmatized_tokens = [lemmatizer.lemmatize(token) for token in tokens]"
      ],
      "metadata": {
        "id": "0voA86sRnWRq"
      },
      "execution_count": null,
      "outputs": []
    },
    {
      "cell_type": "code",
      "source": [
        "\n",
        "stop_words = set(stopwords.words('english'))\n",
        "filtered_tokens = [word for word in lemmatized_tokens if word not in stop_words]\n"
      ],
      "metadata": {
        "id": "tVL8_aNonYIq"
      },
      "execution_count": null,
      "outputs": []
    },
    {
      "cell_type": "code",
      "source": [
        "unique_words = set(filtered_tokens)\n",
        "print(unique_words)"
      ],
      "metadata": {
        "colab": {
          "base_uri": "https://localhost:8080/"
        },
        "id": "0vmEUPMrnahi",
        "outputId": "a9a7353e-aee2-4d6c-a673-97a66e0ecef3"
      },
      "execution_count": null,
      "outputs": [
        {
          "output_type": "stream",
          "name": "stdout",
          "text": [
            "{'sometimes', 'advancement', 'certain', 'speak', 'expertise', 'embarrassment', 'people', 'going', 'review', 'tantrum', 'right', 'research', 'email', 'although', 'problem', 'click', 'required', 'outgoing', 'discomfort', 'make', 'feeling', 'begin', 'sign', 'predict', 'cry', 'hold', 'self', 'start', 'early', 'continue', 'link', 'enjoyment', 'normal', 'information', 'requested', 'common', 'best', 'try', 'many', 'business', 'disclose', 'performing', 'receiving', 'errorinclude', 'term', 'work', 'mail', 'advertising', 'went', 'stomach', 'prevention', 'feel', 'accompany', 'phobia', 'increase', 'use', 'tip', 'opt', 'lead', 'relevant', 'doe', 'also', 'occur', 'notice', 'current', 'abuse', 'could', 'include', 'physical', 'part', 'book', 'erroremail', 'treat', 'trait', 'wrong', 'presentation', 'situation', 'today', 'medication', 'skill', 'hard', 'develop', 'shyness', 'press', 'change', 'flare', 'avoiding', 'great', 'deductible', 'called', 'constant', 'researcher', 'newsletter', 'control', 'practice', 'managing', 'impact', 'update', 'taking', 'understand', 'combine', 'teen', 'procedure', 'international', 'life', 'confidence', 'peer', 'follow', 'stay', 'developing', 'app', 'field', 'social', 'foundation', 'coping', 'mfmer', 'contrast', 'product', 'panic', 'stress', 'charitable', 'preview', 'though', 'subscribing', 'depressive', 'please', 'help', 'routine', 'see', 'others', 'education', 'general', 'possible', 'cause', 'clinging', 'activity', 'subscription', 'check', 'something', 'company', 'experience', 'interact', 'financial', 'interacting', 'minute', 'soon', 'temper', 'daily', 'medical', 'anxiety', 'fear', 'interfere', 'unsubscribe', 'doctor', 'clicking', 'ability', 'endorse', 'health', 'set', 'biological', 'environmental', 'special', 'privacy', 'performance', 'school', 'professional', 'intense', 'adult', 'worry', 'protected', 'untreated', 'improve', 'comfort', 'relationship', 'power', 'lot', 'avoidance', 'complication', 'substance', 'refusing', 'tax', 'personality', 'beneficial', 'parent', 'provide', 'learning', 'arises', 'severe', 'significant', 'symptom', 'mid', 'latest', 'mayo', 'typically', 'type', 'negatively', 'patient', 'revenue', 'assistance', 'inbox', 'younger', 'website', 'produce', 'nervous', 'couple', 'free', 'changing', 'includes', 'often', 'medicine', 'public', 'profit', 'care', 'chronic', 'level', 'including', 'highlighted', 'vary', 'way', 'necessarily', 'facing', 'service', 'seller', 'step', 'donate', 'short', 'submitted', 'major', 'offer', 'nervousness', 'long', 'example', 'valid', 'clinic', 'risk', 'reduce', 'helpful', 'sorry', 'left', 'edge', 'forth', 'gift', 'e', 'endure', 'disorder', 'demand', 'address', 'scrutinized', 'usage', 'complex', 'cutting', 'giving', 'get', 'topic', 'student', 'affect', 'request', 'better', 'resubmit', 'factor', 'someone', 'support', 'overview', 'judged', 'treatment', 'take', 'likely', 'psychotherapy', 'may', 'speaking', 'form', 'interaction', 'like', 'anxious', 'consciousness', 'depending', 'avoid', 'thank', 'gain', 'mental', 'particularly', 'child', 'shown', 'related', 'associated', 'disrupt', 'everyday', 'communication', 'date', 'condition', 'butterfly', 'naturally', 'time', 'several', 'mission', 'reserved'}\n"
          ]
        }
      ]
    },
    {
      "cell_type": "code",
      "source": [
        "smaller_than3  = []\n",
        "for u in unique_words:\n",
        "  if len(u) < 3:\n",
        "    smaller_than3.append(u)\n"
      ],
      "metadata": {
        "id": "P7gpx-_4elH-"
      },
      "execution_count": null,
      "outputs": []
    },
    {
      "cell_type": "code",
      "source": [
        "print(smaller_than3)"
      ],
      "metadata": {
        "colab": {
          "base_uri": "https://localhost:8080/"
        },
        "id": "gCgWOSebewZW",
        "outputId": "3a66de50-1877-4e18-e71a-0ace9d7e9318"
      },
      "execution_count": null,
      "outputs": [
        {
          "output_type": "stream",
          "name": "stdout",
          "text": [
            "['e']\n"
          ]
        }
      ]
    }
  ]
}